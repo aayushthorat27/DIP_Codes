{
 "cells": [
  {
   "cell_type": "markdown",
   "id": "bfc06ead-2879-4e16-84b0-29c63786c33f",
   "metadata": {},
   "source": [
    "# Problem Statement - Implement Huffman Coding Algorithm for Image Compression"
   ]
  },
  {
   "cell_type": "code",
   "execution_count": null,
   "id": "47cfc88b-3f90-4c22-875e-84829fb0fc9a",
   "metadata": {},
   "outputs": [],
   "source": []
  },
  {
   "cell_type": "code",
   "execution_count": 17,
   "id": "566af8d6-f26c-4942-be26-38af705f94e8",
   "metadata": {},
   "outputs": [],
   "source": [
    "from collections import Counter \n",
    "import math"
   ]
  },
  {
   "cell_type": "code",
   "execution_count": 18,
   "id": "6eb6890d-1713-4512-a03c-c2cb4264277f",
   "metadata": {},
   "outputs": [],
   "source": [
    "class NodeTree(object):\n",
    "    def __init__(self,left = None, right = None):\n",
    "        self.left = left\n",
    "        self.right = right\n",
    "    def children(self):\n",
    "        return self.left,self.right\n",
    "    def __str__(self):\n",
    "        return str(self.left) + ' ' + str(self.right)"
   ]
  },
  {
   "cell_type": "code",
   "execution_count": 19,
   "id": "b5fd61a9-725c-4179-a855-39349e6a0cb3",
   "metadata": {},
   "outputs": [],
   "source": [
    "def huffman_code_tree(node,binString = \"\") -> dict:\n",
    "    # Huffman encoding is dictionary representation\n",
    "    if type(node) is str:\n",
    "        return {node : binString}\n",
    "    (l, r) = node.children()\n",
    "    d = dict()\n",
    "    d.update(huffman_code_tree(l, binString +  \"1\"))\n",
    "    d.update(huffman_code_tree(r, binString +  \"0\"))\n",
    "    return d"
   ]
  },
  {
   "cell_type": "code",
   "execution_count": 20,
   "id": "f0abb31c-5b13-4ec2-a47c-729f2f0b903e",
   "metadata": {},
   "outputs": [],
   "source": [
    "def make_tree(nodes):\n",
    "    \"\"\"Input : Nodes \n",
    "    return : root of the tree\"\"\"\n",
    "    while len(nodes) > 1:\n",
    "        (key1,c1) = nodes[-1]\n",
    "        (key2,c2) = nodes[-2]\n",
    "        nodes = nodes[:-2]\n",
    "        node = NodeTree(key1,key2)\n",
    "        nodes.append((node,c1 + c2))\n",
    "        nodes = sorted(nodes, key = lambda x: x[1], reverse=True)\n",
    "    return nodes[0][0]"
   ]
  },
  {
   "cell_type": "code",
   "execution_count": 22,
   "id": "e09ce003-1fa9-4eab-bf0d-ec83c4facfca",
   "metadata": {},
   "outputs": [
    {
     "name": "stdout",
     "output_type": "stream",
     "text": [
      "Frequency of each pixel in the matrix {'3': 7, '2': 6, '1': 2, '0': 1}\n",
      "\n",
      "Probabilities of each pixel: {'3': 0.4375, '2': 0.375, '1': 0.125, '0': 0.0625}\n",
      "\n",
      "Sorted Nodes by probability: [('3', 0.4375), ('2', 0.375), ('1', 0.125), ('0', 0.0625)]\n",
      "\n",
      "Huffman Tree root: 3 0 1 2\n",
      "\n",
      "Huffman encoding: {'3': '1', '0': '011', '1': '010', '2': '00'}\n",
      "3 : 1 Bit Length: 1 , weighted probability = 0.4375\n",
      "0 : 011 Bit Length: 3 , weighted probability = 0.1875\n",
      "1 : 010 Bit Length: 3 , weighted probability = 0.375\n",
      "2 : 00 Bit Length: 2 , weighted probability = 0.75\n",
      "\n",
      "Compression ratio = 1.1428571428571428\n"
     ]
    }
   ],
   "source": [
    "if __name__ == \"__main__\":\n",
    "    string = \"\"\n",
    "    matrix = [[3,3,3,2],[2,3,3,3],[3,2,2,2],[2,1,1,0]]\n",
    "    total_pixel = len(matrix)*len(matrix[0])\n",
    "\n",
    "    matrix_tuple = [str(pixel) for inner in matrix for pixel in inner]\n",
    "    freq = dict(Counter(matrix_tuple))\n",
    "    print(\"Frequency of each pixel in the matrix\",freq)\n",
    "\n",
    "    prob = {}\n",
    "    for pixel in freq:\n",
    "        prob[pixel] = freq[pixel] / total_pixel\n",
    "    print(\"\\nProbabilities of each pixel:\",prob)\n",
    "\n",
    "    nodes = [(k,v) for k,v in prob.items()]\n",
    "    nodes = sorted(nodes,key = lambda x:x[1],reverse = True) # sort accorging to decreasing order of probability\n",
    "    print(\"\\nSorted Nodes by probability:\",nodes)\n",
    "\n",
    "    node = make_tree(nodes)\n",
    "    print(\"\\nHuffman Tree root:\",node)\n",
    "\n",
    "    encoding = huffman_code_tree(node)\n",
    "    print(\"\\nHuffman encoding:\",encoding)\n",
    "\n",
    "    # calculate average bits per pixel\n",
    "    res = 0\n",
    "    for i in encoding:\n",
    "        bit_len = len(encoding[i])\n",
    "        res += bit_len*prob[i]\n",
    "        print(f\"{i} : {encoding[i]} Bit Length: {bit_len} , weighted probability = {bit_len * prob[i]}\")\n",
    "\n",
    "    img_size_before_compression = 2\n",
    "    compression_ratio = img_size_before_compression / res\n",
    "    print(\"\\nCompression ratio =\",compression_ratio)\n",
    "    "
   ]
  },
  {
   "cell_type": "code",
   "execution_count": null,
   "id": "bc954d0d-5588-4fb9-ae65-67701c3453c7",
   "metadata": {},
   "outputs": [],
   "source": []
  }
 ],
 "metadata": {
  "kernelspec": {
   "display_name": "Python 3 (ipykernel)",
   "language": "python",
   "name": "python3"
  },
  "language_info": {
   "codemirror_mode": {
    "name": "ipython",
    "version": 3
   },
   "file_extension": ".py",
   "mimetype": "text/x-python",
   "name": "python",
   "nbconvert_exporter": "python",
   "pygments_lexer": "ipython3",
   "version": "3.11.5"
  }
 },
 "nbformat": 4,
 "nbformat_minor": 5
}
